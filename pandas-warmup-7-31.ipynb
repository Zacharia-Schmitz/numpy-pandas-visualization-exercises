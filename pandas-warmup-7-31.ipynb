{
 "cells": [
  {
   "cell_type": "markdown",
   "id": "c0833087",
   "metadata": {},
   "source": [
    "# Discussion"
   ]
  },
  {
   "cell_type": "markdown",
   "id": "fefa8293",
   "metadata": {},
   "source": [
    "## 1. What is a dataframe?\n",
    "\n",
    "A DataFrame is a two-dimensional labeled data structure in pandas, where each column can have a different data type (e.g., integer, float, string)\n",
    "and each row represents a record. \n",
    "\n",
    "## 2. What information can we obtain about a dataframe?\n",
    "\n",
    ".info() can be used to print a concise summary with number of non-null, data types, and memory usage\n",
    "\n",
    ".describe() can be used to generate summary statistics of a DF or Series. It includes the following for each column:\n",
    "\n",
    "    count\n",
    "    \n",
    "    mean\n",
    "    \n",
    "    std - the standard deviation\n",
    "    \n",
    "    min\n",
    "    \n",
    "    25% - the 25th percentile\n",
    "    \n",
    "    50%\n",
    "    \n",
    "    75%\n",
    "    \n",
    "    max\n",
    "\n",
    ".describe(include='all') can be used for summary statistics of non-numeric values\n",
    "\n",
    "**These are attributes that can be used, they do not require ()**\n",
    "\n",
    "    .dtypes the datatype for each column\n",
    "\n",
    "    .shape the number of rows and columns\n",
    "\n",
    "    .columns the list of column names\n",
    "\n",
    "    .index, the labels for each row\n",
    "\n",
    "## 3. How have we interacted with a dataframe?\n",
    "\n",
    "Subsetting to access multiple columns with a list of strings\n",
    "\n",
    "    .head() top 5 by default\n",
    "    .tail() bottom by by default\n",
    "    .sample() 1 by default\n",
    "\n",
    "**Boolean mask/series**\n",
    "\n",
    "**Drops columns**\n",
    "    df.drop(columns=['english', 'reading'])\n",
    "\n",
    "**Renames columns**\n",
    "    df.rename(columns={'name': 'student'})\n",
    "\n",
    "**Creating columns**\n",
    "    df['passing_math'] = df.math > 70\n",
    "\n",
    "**Add another column using .assign**\n",
    "    df.assign(passing_english=df.english >= 70)\n",
    "\n",
    "**Sorting DF by columns**\n",
    "    df.sort_values(by='english', ascending=False)   ascending is True by default\n",
    "\n",
    "**Method chaining**\n",
    "    df[df.english > 90].sort_values(by='english').head(1).name\n",
    "\n",
    "**loc and iloc**\n",
    "*loc*\n",
    "Select all the rows and a subset of columns; notice the inclusive behavior of the indexing.\n",
    "\n",
    "    df.loc[:, 'math':'reading']\n",
    "\n",
    "*iloc*\n",
    "Same selection using index\n",
    "Notice the exclusive behavior of the indexing.\n",
    "\n",
    "    df.iloc[:3]\n",
    "\n",
    "**Aggregating for math summary stats**\n",
    "    df[['english', 'reading', 'math']].agg(['mean', 'min', 'max'])\n",
    "\n",
    "**Group By for another way to summarize**\n",
    "The highest math grade from each classroom:\n",
    "    df.groupby('classroom').math.max()\n",
    "\n",
    "**np.where**\n",
    "Create the new column based on an existing column.\n",
    "\n",
    "    df['passing_math'] = np.where(df.math < 70, 'failing', 'passing')\n",
    "\n",
    "**Concat**\n",
    "    pd.concat([df1, df2], axis=0) axis 0 is default, this will put the second df under the first\n",
    "\n",
    "**Merge** \n",
    "    df.merge default settings for commonly used parameters. Very similar to JOIN in SQL\n",
    "\n",
    "how == Type of merge to be performed.\n",
    "\n",
    "how=left: use only keys from left frame, similar to a SQL left outer join; preserve key order.\n",
    "\n",
    "how=right: use only keys from right frame, similar to a SQL right outer join; preserve key order.\n",
    "\n",
    "how=outer: use union of keys from both frames, similar to a SQL full outer join; sort keys lexicographically.\n",
    "\n",
    "how=inner: use intersection of keys from both frames, similar to a SQL inner join; preserve the order of the left keys.\n",
    "\n",
    "    left_df.merge(right_df, how='inner', on=None, left_on=None, right_on=None, left_index=False, right_index=False, indicator=False)\n"
   ]
  },
  {
   "cell_type": "markdown",
   "id": "930917be",
   "metadata": {},
   "source": [
    "---\n",
    "# Pactice Exercises"
   ]
  },
  {
   "cell_type": "code",
   "execution_count": 2,
   "id": "613db1d2",
   "metadata": {},
   "outputs": [],
   "source": [
    "import pandas as pd\n",
    "\n",
    "df = pd.read_csv('https://gist.githubusercontent.com/armgilles/194bcff35001e7eb53a2a8b441e8b2c6/raw/92200bc0a673d5ce2110aaad4544ed6c4010f687/pokemon.csv')"
   ]
  },
  {
   "cell_type": "markdown",
   "id": "39ce3b34",
   "metadata": {},
   "source": [
    "#### Information about a dataframe\n",
    "\n",
    "1. Obtain the following information:"
   ]
  },
  {
   "cell_type": "code",
   "execution_count": 3,
   "id": "545c3521",
   "metadata": {},
   "outputs": [
    {
     "data": {
      "text/plain": [
       "(800, 13)"
      ]
     },
     "execution_count": 3,
     "metadata": {},
     "output_type": "execute_result"
    }
   ],
   "source": [
    "# dimensions\n",
    "df.shape"
   ]
  },
  {
   "cell_type": "code",
   "execution_count": 4,
   "id": "e6ed9474",
   "metadata": {},
   "outputs": [
    {
     "data": {
      "text/plain": [
       "#              int64\n",
       "Name          object\n",
       "Type 1        object\n",
       "Type 2        object\n",
       "Total          int64\n",
       "HP             int64\n",
       "Attack         int64\n",
       "Defense        int64\n",
       "Sp. Atk        int64\n",
       "Sp. Def        int64\n",
       "Speed          int64\n",
       "Generation     int64\n",
       "Legendary       bool\n",
       "dtype: object"
      ]
     },
     "execution_count": 4,
     "metadata": {},
     "output_type": "execute_result"
    }
   ],
   "source": [
    "# dtypes\n",
    "df.dtypes"
   ]
  },
  {
   "cell_type": "code",
   "execution_count": 5,
   "id": "a92598b9",
   "metadata": {},
   "outputs": [
    {
     "data": {
      "text/plain": [
       "Index(['#', 'Name', 'Type 1', 'Type 2', 'Total', 'HP', 'Attack', 'Defense',\n",
       "       'Sp. Atk', 'Sp. Def', 'Speed', 'Generation', 'Legendary'],\n",
       "      dtype='object')"
      ]
     },
     "execution_count": 5,
     "metadata": {},
     "output_type": "execute_result"
    }
   ],
   "source": [
    "# column names\n",
    "df.columns"
   ]
  },
  {
   "cell_type": "code",
   "execution_count": 10,
   "id": "2511c82b",
   "metadata": {},
   "outputs": [
    {
     "data": {
      "text/html": [
       "<div>\n",
       "<style scoped>\n",
       "    .dataframe tbody tr th:only-of-type {\n",
       "        vertical-align: middle;\n",
       "    }\n",
       "\n",
       "    .dataframe tbody tr th {\n",
       "        vertical-align: top;\n",
       "    }\n",
       "\n",
       "    .dataframe thead th {\n",
       "        text-align: right;\n",
       "    }\n",
       "</style>\n",
       "<table border=\"1\" class=\"dataframe\">\n",
       "  <thead>\n",
       "    <tr style=\"text-align: right;\">\n",
       "      <th></th>\n",
       "      <th>#</th>\n",
       "      <th>Total</th>\n",
       "      <th>HP</th>\n",
       "      <th>Attack</th>\n",
       "      <th>Defense</th>\n",
       "      <th>Sp. Atk</th>\n",
       "      <th>Sp. Def</th>\n",
       "      <th>Speed</th>\n",
       "      <th>Generation</th>\n",
       "    </tr>\n",
       "  </thead>\n",
       "  <tbody>\n",
       "    <tr>\n",
       "      <th>count</th>\n",
       "      <td>800.000000</td>\n",
       "      <td>800.00000</td>\n",
       "      <td>800.000000</td>\n",
       "      <td>800.000000</td>\n",
       "      <td>800.000000</td>\n",
       "      <td>800.000000</td>\n",
       "      <td>800.000000</td>\n",
       "      <td>800.000000</td>\n",
       "      <td>800.00000</td>\n",
       "    </tr>\n",
       "    <tr>\n",
       "      <th>mean</th>\n",
       "      <td>362.813750</td>\n",
       "      <td>435.10250</td>\n",
       "      <td>69.258750</td>\n",
       "      <td>79.001250</td>\n",
       "      <td>73.842500</td>\n",
       "      <td>72.820000</td>\n",
       "      <td>71.902500</td>\n",
       "      <td>68.277500</td>\n",
       "      <td>3.32375</td>\n",
       "    </tr>\n",
       "    <tr>\n",
       "      <th>std</th>\n",
       "      <td>208.343798</td>\n",
       "      <td>119.96304</td>\n",
       "      <td>25.534669</td>\n",
       "      <td>32.457366</td>\n",
       "      <td>31.183501</td>\n",
       "      <td>32.722294</td>\n",
       "      <td>27.828916</td>\n",
       "      <td>29.060474</td>\n",
       "      <td>1.66129</td>\n",
       "    </tr>\n",
       "    <tr>\n",
       "      <th>min</th>\n",
       "      <td>1.000000</td>\n",
       "      <td>180.00000</td>\n",
       "      <td>1.000000</td>\n",
       "      <td>5.000000</td>\n",
       "      <td>5.000000</td>\n",
       "      <td>10.000000</td>\n",
       "      <td>20.000000</td>\n",
       "      <td>5.000000</td>\n",
       "      <td>1.00000</td>\n",
       "    </tr>\n",
       "    <tr>\n",
       "      <th>25%</th>\n",
       "      <td>184.750000</td>\n",
       "      <td>330.00000</td>\n",
       "      <td>50.000000</td>\n",
       "      <td>55.000000</td>\n",
       "      <td>50.000000</td>\n",
       "      <td>49.750000</td>\n",
       "      <td>50.000000</td>\n",
       "      <td>45.000000</td>\n",
       "      <td>2.00000</td>\n",
       "    </tr>\n",
       "    <tr>\n",
       "      <th>50%</th>\n",
       "      <td>364.500000</td>\n",
       "      <td>450.00000</td>\n",
       "      <td>65.000000</td>\n",
       "      <td>75.000000</td>\n",
       "      <td>70.000000</td>\n",
       "      <td>65.000000</td>\n",
       "      <td>70.000000</td>\n",
       "      <td>65.000000</td>\n",
       "      <td>3.00000</td>\n",
       "    </tr>\n",
       "    <tr>\n",
       "      <th>75%</th>\n",
       "      <td>539.250000</td>\n",
       "      <td>515.00000</td>\n",
       "      <td>80.000000</td>\n",
       "      <td>100.000000</td>\n",
       "      <td>90.000000</td>\n",
       "      <td>95.000000</td>\n",
       "      <td>90.000000</td>\n",
       "      <td>90.000000</td>\n",
       "      <td>5.00000</td>\n",
       "    </tr>\n",
       "    <tr>\n",
       "      <th>max</th>\n",
       "      <td>721.000000</td>\n",
       "      <td>780.00000</td>\n",
       "      <td>255.000000</td>\n",
       "      <td>190.000000</td>\n",
       "      <td>230.000000</td>\n",
       "      <td>194.000000</td>\n",
       "      <td>230.000000</td>\n",
       "      <td>180.000000</td>\n",
       "      <td>6.00000</td>\n",
       "    </tr>\n",
       "  </tbody>\n",
       "</table>\n",
       "</div>"
      ],
      "text/plain": [
       "                #      Total          HP      Attack     Defense     Sp. Atk  \\\n",
       "count  800.000000  800.00000  800.000000  800.000000  800.000000  800.000000   \n",
       "mean   362.813750  435.10250   69.258750   79.001250   73.842500   72.820000   \n",
       "std    208.343798  119.96304   25.534669   32.457366   31.183501   32.722294   \n",
       "min      1.000000  180.00000    1.000000    5.000000    5.000000   10.000000   \n",
       "25%    184.750000  330.00000   50.000000   55.000000   50.000000   49.750000   \n",
       "50%    364.500000  450.00000   65.000000   75.000000   70.000000   65.000000   \n",
       "75%    539.250000  515.00000   80.000000  100.000000   90.000000   95.000000   \n",
       "max    721.000000  780.00000  255.000000  190.000000  230.000000  194.000000   \n",
       "\n",
       "          Sp. Def       Speed  Generation  \n",
       "count  800.000000  800.000000   800.00000  \n",
       "mean    71.902500   68.277500     3.32375  \n",
       "std     27.828916   29.060474     1.66129  \n",
       "min     20.000000    5.000000     1.00000  \n",
       "25%     50.000000   45.000000     2.00000  \n",
       "50%     70.000000   65.000000     3.00000  \n",
       "75%     90.000000   90.000000     5.00000  \n",
       "max    230.000000  180.000000     6.00000  "
      ]
     },
     "execution_count": 10,
     "metadata": {},
     "output_type": "execute_result"
    }
   ],
   "source": [
    "# summary statistics\n",
    "df.describe()"
   ]
  },
  {
   "cell_type": "markdown",
   "id": "4c7140c0",
   "metadata": {},
   "source": [
    "#### Working with dataframes"
   ]
  },
  {
   "cell_type": "code",
   "execution_count": 14,
   "id": "745b5c1b",
   "metadata": {},
   "outputs": [],
   "source": [
    "# 1. What is the highest HP value present?\n",
    "    # Create a function named highest_attack.\n",
    "    # Use the loaded dataframe as an argument.\n",
    "    \n",
    "def highest_attack(df):\n",
    "    return df['Attack'].max()"
   ]
  },
  {
   "cell_type": "code",
   "execution_count": 15,
   "id": "22fbebfa",
   "metadata": {},
   "outputs": [
    {
     "data": {
      "text/plain": [
       "190"
      ]
     },
     "execution_count": 15,
     "metadata": {},
     "output_type": "execute_result"
    }
   ],
   "source": [
    "highest_attack(df)"
   ]
  },
  {
   "cell_type": "code",
   "execution_count": 25,
   "id": "60eae031",
   "metadata": {},
   "outputs": [
    {
     "data": {
      "text/html": [
       "<div>\n",
       "<style scoped>\n",
       "    .dataframe tbody tr th:only-of-type {\n",
       "        vertical-align: middle;\n",
       "    }\n",
       "\n",
       "    .dataframe tbody tr th {\n",
       "        vertical-align: top;\n",
       "    }\n",
       "\n",
       "    .dataframe thead th {\n",
       "        text-align: right;\n",
       "    }\n",
       "</style>\n",
       "<table border=\"1\" class=\"dataframe\">\n",
       "  <thead>\n",
       "    <tr style=\"text-align: right;\">\n",
       "      <th></th>\n",
       "      <th>#</th>\n",
       "      <th>Name</th>\n",
       "      <th>Type 1</th>\n",
       "      <th>Type 2</th>\n",
       "      <th>Total</th>\n",
       "      <th>HP</th>\n",
       "      <th>Attack</th>\n",
       "      <th>Defense</th>\n",
       "      <th>Sp. Atk</th>\n",
       "      <th>Sp. Def</th>\n",
       "      <th>Speed</th>\n",
       "      <th>Generation</th>\n",
       "      <th>Legendary</th>\n",
       "    </tr>\n",
       "  </thead>\n",
       "  <tbody>\n",
       "    <tr>\n",
       "      <th>261</th>\n",
       "      <td>242</td>\n",
       "      <td>Blissey</td>\n",
       "      <td>Normal</td>\n",
       "      <td>NaN</td>\n",
       "      <td>540</td>\n",
       "      <td>255</td>\n",
       "      <td>10</td>\n",
       "      <td>10</td>\n",
       "      <td>75</td>\n",
       "      <td>135</td>\n",
       "      <td>55</td>\n",
       "      <td>2</td>\n",
       "      <td>False</td>\n",
       "    </tr>\n",
       "  </tbody>\n",
       "</table>\n",
       "</div>"
      ],
      "text/plain": [
       "       #     Name  Type 1 Type 2  Total   HP  Attack  Defense  Sp. Atk  \\\n",
       "261  242  Blissey  Normal    NaN    540  255      10       10       75   \n",
       "\n",
       "     Sp. Def  Speed  Generation  Legendary  \n",
       "261      135     55           2      False  "
      ]
     },
     "execution_count": 25,
     "metadata": {},
     "output_type": "execute_result"
    }
   ],
   "source": [
    "# 2. Which Pokemon possess(es) the highest HP value?\n",
    "\n",
    "# df[df.HP == df.HP.max()] using dot notation\n",
    "\n",
    "df[df['HP'] == df['HP'].max()] # using bracket notation"
   ]
  },
  {
   "cell_type": "code",
   "execution_count": 27,
   "id": "a502e6e7",
   "metadata": {},
   "outputs": [],
   "source": [
    " # How many different types are represented in Type 1?\n",
    "\n",
    "# Create a function named num_types\n",
    "# Use the loaded dataframe as an argument\n",
    "\n",
    "def num_types(df):\n",
    "    return df['Type 1'].nunique()"
   ]
  },
  {
   "cell_type": "code",
   "execution_count": 28,
   "id": "6eae9f2e",
   "metadata": {},
   "outputs": [
    {
     "data": {
      "text/plain": [
       "18"
      ]
     },
     "execution_count": 28,
     "metadata": {},
     "output_type": "execute_result"
    }
   ],
   "source": [
    "num_types(df)"
   ]
  },
  {
   "cell_type": "code",
   "execution_count": 34,
   "id": "5ea46890",
   "metadata": {},
   "outputs": [
    {
     "data": {
      "text/plain": [
       "14"
      ]
     },
     "execution_count": 34,
     "metadata": {},
     "output_type": "execute_result"
    }
   ],
   "source": [
    "# 4. Number of Pokemon whose Type 2 is Ghost\n",
    "\n",
    "df[df['Type 2'] == 'Ghost'].shape[0]"
   ]
  },
  {
   "cell_type": "code",
   "execution_count": 40,
   "id": "f0b5c4b7",
   "metadata": {},
   "outputs": [],
   "source": [
    "# 5. Percentage of Pokemon whose Type 2 is Ghost\n",
    "\n",
    "    # Create a function named percent_ghost\n",
    "    # Use the loaded dataframe as an argument\n",
    "    \n",
    "def percent_ghost(df):\n",
    "    num_ghost = df[df['Type 2'] == 'Ghost'].shape[0]\n",
    "    num_total = df.shape[0]\n",
    "    percent = num_ghost / num_total * 100\n",
    "    return '{:.2f}%'.format(percent)\n"
   ]
  },
  {
   "cell_type": "code",
   "execution_count": 41,
   "id": "d68e3b29",
   "metadata": {},
   "outputs": [
    {
     "data": {
      "text/plain": [
       "'1.75%'"
      ]
     },
     "execution_count": 41,
     "metadata": {},
     "output_type": "execute_result"
    }
   ],
   "source": [
    "percent_ghost(df)"
   ]
  },
  {
   "cell_type": "code",
   "execution_count": 46,
   "id": "f95affbe",
   "metadata": {},
   "outputs": [
    {
     "data": {
      "text/plain": [
       "433"
      ]
     },
     "execution_count": 46,
     "metadata": {},
     "output_type": "execute_result"
    }
   ],
   "source": [
    "# 6. Number of Pokemon whose Attack is greater than Defense\n",
    "\n",
    "df[df['Attack'] > df['Defense']].shape[0]"
   ]
  },
  {
   "cell_type": "code",
   "execution_count": 77,
   "id": "04b80722",
   "metadata": {},
   "outputs": [
    {
     "data": {
      "text/html": [
       "<div>\n",
       "<style scoped>\n",
       "    .dataframe tbody tr th:only-of-type {\n",
       "        vertical-align: middle;\n",
       "    }\n",
       "\n",
       "    .dataframe tbody tr th {\n",
       "        vertical-align: top;\n",
       "    }\n",
       "\n",
       "    .dataframe thead th {\n",
       "        text-align: right;\n",
       "    }\n",
       "</style>\n",
       "<table border=\"1\" class=\"dataframe\">\n",
       "  <thead>\n",
       "    <tr style=\"text-align: right;\">\n",
       "      <th></th>\n",
       "      <th>#</th>\n",
       "      <th>Name</th>\n",
       "      <th>Type 1</th>\n",
       "      <th>Type 2</th>\n",
       "      <th>Total</th>\n",
       "      <th>HP</th>\n",
       "      <th>Attack</th>\n",
       "      <th>Defense</th>\n",
       "      <th>Sp. Atk</th>\n",
       "      <th>Sp. Def</th>\n",
       "      <th>Speed</th>\n",
       "      <th>Generation</th>\n",
       "      <th>Legendary</th>\n",
       "    </tr>\n",
       "  </thead>\n",
       "  <tbody>\n",
       "    <tr>\n",
       "      <th>230</th>\n",
       "      <td>213</td>\n",
       "      <td>Shuckle</td>\n",
       "      <td>Bug</td>\n",
       "      <td>Rock</td>\n",
       "      <td>505</td>\n",
       "      <td>20</td>\n",
       "      <td>10</td>\n",
       "      <td>230</td>\n",
       "      <td>10</td>\n",
       "      <td>230</td>\n",
       "      <td>5</td>\n",
       "      <td>2</td>\n",
       "      <td>False</td>\n",
       "    </tr>\n",
       "  </tbody>\n",
       "</table>\n",
       "</div>"
      ],
      "text/plain": [
       "       #     Name Type 1 Type 2  Total  HP  Attack  Defense  Sp. Atk  Sp. Def  \\\n",
       "230  213  Shuckle    Bug   Rock    505  20      10      230       10      230   \n",
       "\n",
       "     Speed  Generation  Legendary  \n",
       "230      5           2      False  "
      ]
     },
     "execution_count": 77,
     "metadata": {},
     "output_type": "execute_result"
    }
   ],
   "source": [
    "# 7. Lowest speed for Grass or Rock\n",
    "\n",
    "grass_or_rock = df['Type 1'].isin(['Grass', 'Rock']) | df['Type 2'].isin(['Grass', 'Rock'])\n",
    "\n",
    "lowest_speed = df['Speed'].min()\n",
    "\n",
    "df[grass_or_rock & (df['Speed'] == lowest_speed)]"
   ]
  },
  {
   "cell_type": "code",
   "execution_count": 76,
   "id": "12e29756",
   "metadata": {},
   "outputs": [
    {
     "data": {
      "text/plain": [
       "5"
      ]
     },
     "execution_count": 76,
     "metadata": {},
     "output_type": "execute_result"
    }
   ],
   "source": [
    "# Get the Lowest speed for grass or rock\n",
    "df.loc[grass_or_rock]['Speed'].min()"
   ]
  },
  {
   "cell_type": "code",
   "execution_count": null,
   "id": "a8ab300b",
   "metadata": {},
   "outputs": [],
   "source": []
  }
 ],
 "metadata": {
  "kernelspec": {
   "display_name": "Python 3 (ipykernel)",
   "language": "python",
   "name": "python3"
  },
  "language_info": {
   "codemirror_mode": {
    "name": "ipython",
    "version": 3
   },
   "file_extension": ".py",
   "mimetype": "text/x-python",
   "name": "python",
   "nbconvert_exporter": "python",
   "pygments_lexer": "ipython3",
   "version": "3.11.3"
  }
 },
 "nbformat": 4,
 "nbformat_minor": 5
}
