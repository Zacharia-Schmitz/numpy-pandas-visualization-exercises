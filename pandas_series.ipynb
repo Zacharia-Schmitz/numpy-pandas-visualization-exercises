{
 "cells": [
  {
   "cell_type": "markdown",
   "metadata": {},
   "source": [
    "# Exercises Part I\n",
    "\n",
    "Make a file named pandas_series.py or pandas_series.ipynb for the following exercises.\n",
    "\n",
    "Use pandas to create a Series named fruits from the following list:\n",
    "\n",
    "```\n",
    "[\"kiwi\", \"mango\", \"strawberry\", \"pineapple\", \"gala apple\", \"honeycrisp apple\", \"tomato\", \"watermelon\", \"honeydew\", \"kiwi\", \"kiwi\", \"kiwi\", \"mango\", \"blueberry\", \"blackberry\", \"gooseberry\", \"papaya\"]\n",
    "```"
   ]
  },
  {
   "cell_type": "code",
   "execution_count": 18,
   "metadata": {},
   "outputs": [],
   "source": [
    "import pandas as pd\n",
    "import numpy as np\n",
    "from pydataset import data"
   ]
  },
  {
   "cell_type": "code",
   "execution_count": 32,
   "metadata": {},
   "outputs": [
    {
     "data": {
      "text/plain": [
       "0                 kiwi\n",
       "1                mango\n",
       "2           strawberry\n",
       "3            pineapple\n",
       "4           gala_apple\n",
       "5     honeycrisp_apple\n",
       "6               tomato\n",
       "7           watermelon\n",
       "8             honeydew\n",
       "9                 kiwi\n",
       "10                kiwi\n",
       "11                kiwi\n",
       "12               mango\n",
       "13           blueberry\n",
       "14          blackberry\n",
       "15          gooseberry\n",
       "16              papaya\n",
       "dtype: object"
      ]
     },
     "execution_count": 32,
     "metadata": {},
     "output_type": "execute_result"
    }
   ],
   "source": [
    "fruit_list = [\"kiwi\", \"mango\", \"strawberry\", \"pineapple\", \"gala_apple\", \"honeycrisp_apple\", \"tomato\", \"watermelon\", \"honeydew\", \"kiwi\", \"kiwi\", \"kiwi\", \"mango\", \"blueberry\", \"blackberry\", \"gooseberry\", \"papaya\"]\n",
    "\n",
    "fruit_series = pd.Series(fruit_list)\n",
    "\n",
    "fruit_series"
   ]
  },
  {
   "cell_type": "code",
   "execution_count": 26,
   "metadata": {},
   "outputs": [
    {
     "data": {
      "text/plain": [
       "17"
      ]
     },
     "execution_count": 26,
     "metadata": {},
     "output_type": "execute_result"
    }
   ],
   "source": [
    "# Determine the number of elements in fruits.\n",
    "\n",
    "fruit_series.size"
   ]
  },
  {
   "cell_type": "code",
   "execution_count": 31,
   "metadata": {},
   "outputs": [
    {
     "data": {
      "text/plain": [
       "RangeIndex(start=0, stop=17, step=1)"
      ]
     },
     "execution_count": 31,
     "metadata": {},
     "output_type": "execute_result"
    }
   ],
   "source": [
    "# Output only index column from fruits.\n",
    "\n",
    "fruit_series.index"
   ]
  },
  {
   "cell_type": "code",
   "execution_count": 34,
   "metadata": {},
   "outputs": [
    {
     "data": {
      "text/plain": [
       "array(['kiwi', 'mango', 'strawberry', 'pineapple', 'gala_apple',\n",
       "       'honeycrisp_apple', 'tomato', 'watermelon', 'honeydew', 'kiwi',\n",
       "       'kiwi', 'kiwi', 'mango', 'blueberry', 'blackberry', 'gooseberry',\n",
       "       'papaya'], dtype=object)"
      ]
     },
     "execution_count": 34,
     "metadata": {},
     "output_type": "execute_result"
    }
   ],
   "source": [
    "# Output only the values from fruits.\n",
    "\n",
    "fruit_series.values"
   ]
  },
  {
   "cell_type": "code",
   "execution_count": 38,
   "metadata": {},
   "outputs": [
    {
     "data": {
      "text/plain": [
       "dtype('O')"
      ]
     },
     "execution_count": 38,
     "metadata": {},
     "output_type": "execute_result"
    }
   ],
   "source": [
    "# Confirm the data type of the values in fruits.\n",
    "\n",
    "fruit_series.dtype"
   ]
  },
  {
   "cell_type": "code",
   "execution_count": 58,
   "metadata": {},
   "outputs": [
    {
     "name": "stdout",
     "output_type": "stream",
     "text": [
      "0          kiwi\n",
      "1         mango\n",
      "2    strawberry\n",
      "3     pineapple\n",
      "4    gala_apple\n",
      "dtype: object\n"
     ]
    }
   ],
   "source": [
    "# Output only the first five values from fruits.\n",
    "print(fruit_series.head())"
   ]
  },
  {
   "cell_type": "code",
   "execution_count": 59,
   "metadata": {},
   "outputs": [
    {
     "name": "stdout",
     "output_type": "stream",
     "text": [
      "14    blackberry\n",
      "15    gooseberry\n",
      "16        papaya\n",
      "dtype: object\n"
     ]
    }
   ],
   "source": [
    "# Output the last three values.\n",
    "\n",
    "print(fruit_series.tail(3))"
   ]
  },
  {
   "cell_type": "code",
   "execution_count": 60,
   "metadata": {},
   "outputs": [
    {
     "name": "stdout",
     "output_type": "stream",
     "text": [
      "9                kiwi\n",
      "5    honeycrisp_apple\n",
      "dtype: object\n"
     ]
    }
   ],
   "source": [
    "# Output two random values from fruits.\n",
    "\n",
    "print(fruit_series.sample(2))"
   ]
  },
  {
   "cell_type": "code",
   "execution_count": 47,
   "metadata": {},
   "outputs": [
    {
     "data": {
      "text/plain": [
       "count       17\n",
       "unique      13\n",
       "top       kiwi\n",
       "freq         4\n",
       "dtype: object"
      ]
     },
     "execution_count": 47,
     "metadata": {},
     "output_type": "execute_result"
    }
   ],
   "source": [
    "# Run the .describe() on fruits to see what information it returns when called on a Series with string values.\n",
    "\n",
    "fruit_series.describe()"
   ]
  },
  {
   "cell_type": "code",
   "execution_count": 49,
   "metadata": {},
   "outputs": [
    {
     "data": {
      "text/plain": [
       "array(['kiwi', 'mango', 'strawberry', 'pineapple', 'gala_apple',\n",
       "       'honeycrisp_apple', 'tomato', 'watermelon', 'honeydew',\n",
       "       'blueberry', 'blackberry', 'gooseberry', 'papaya'], dtype=object)"
      ]
     },
     "execution_count": 49,
     "metadata": {},
     "output_type": "execute_result"
    }
   ],
   "source": [
    "# Run the code necessary to produce only the unique string values from fruits.\n",
    "\n",
    "fruit_series.unique()"
   ]
  },
  {
   "cell_type": "code",
   "execution_count": 50,
   "metadata": {},
   "outputs": [
    {
     "data": {
      "text/plain": [
       "kiwi                4\n",
       "mango               2\n",
       "strawberry          1\n",
       "pineapple           1\n",
       "gala_apple          1\n",
       "honeycrisp_apple    1\n",
       "tomato              1\n",
       "watermelon          1\n",
       "honeydew            1\n",
       "blueberry           1\n",
       "blackberry          1\n",
       "gooseberry          1\n",
       "papaya              1\n",
       "dtype: int64"
      ]
     },
     "execution_count": 50,
     "metadata": {},
     "output_type": "execute_result"
    }
   ],
   "source": [
    "# Determine how many times each unique string value occurs in fruits.\n",
    "\n",
    "fruit_series.value_counts()"
   ]
  },
  {
   "cell_type": "code",
   "execution_count": 51,
   "metadata": {},
   "outputs": [
    {
     "data": {
      "text/plain": [
       "kiwi    4\n",
       "dtype: int64"
      ]
     },
     "execution_count": 51,
     "metadata": {},
     "output_type": "execute_result"
    }
   ],
   "source": [
    "# Determine the string value that occurs most frequently in fruits.\n",
    "\n",
    "fruit_series.value_counts().head(1)"
   ]
  },
  {
   "cell_type": "code",
   "execution_count": 57,
   "metadata": {},
   "outputs": [
    {
     "data": {
      "text/plain": [
       "strawberry          1\n",
       "pineapple           1\n",
       "gala_apple          1\n",
       "honeycrisp_apple    1\n",
       "tomato              1\n",
       "watermelon          1\n",
       "honeydew            1\n",
       "blueberry           1\n",
       "blackberry          1\n",
       "gooseberry          1\n",
       "papaya              1\n",
       "dtype: int64"
      ]
     },
     "execution_count": 57,
     "metadata": {},
     "output_type": "execute_result"
    }
   ],
   "source": [
    "# Determine the string value that occurs least frequently in fruits.\n",
    "\n",
    "fruit_series.value_counts().tail(1)\n",
    "\n",
    "# If there are multiple counts at the lowest print them all\n",
    "\n",
    "fruit_series.value_counts().nsmallest(n=1, keep='all')"
   ]
  },
  {
   "cell_type": "markdown",
   "metadata": {},
   "source": [
    "# Pandas Workbook"
   ]
  },
  {
   "cell_type": "code",
   "execution_count": 1,
   "metadata": {},
   "outputs": [],
   "source": [
    "import pandas as pd\n",
    "import numpy as np\n",
    "from pydataset import data"
   ]
  },
  {
   "cell_type": "code",
   "execution_count": 3,
   "metadata": {},
   "outputs": [],
   "source": [
    "my_df = data('sleepstudy')"
   ]
  },
  {
   "cell_type": "code",
   "execution_count": 16,
   "metadata": {},
   "outputs": [
    {
     "data": {
      "text/plain": [
       "1      249.5600\n",
       "2      258.7047\n",
       "3      250.8006\n",
       "4      321.4398\n",
       "5      356.8519\n",
       "         ...   \n",
       "176    329.6076\n",
       "177    334.4818\n",
       "178    343.2199\n",
       "179    369.1417\n",
       "180    364.1236\n",
       "Name: Reaction, Length: 180, dtype: float64"
      ]
     },
     "execution_count": 16,
     "metadata": {},
     "output_type": "execute_result"
    }
   ],
   "source": [
    "my_series = my_df['Reaction']\n",
    "\n",
    "#It is a series, because it has 1 column (+ a label)\n",
    "\n",
    "my_series"
   ]
  },
  {
   "cell_type": "code",
   "execution_count": 10,
   "metadata": {},
   "outputs": [
    {
     "data": {
      "text/plain": [
       "0     1\n",
       "1     2\n",
       "2     3\n",
       "3     4\n",
       "4     5\n",
       "5     6\n",
       "6     7\n",
       "7     8\n",
       "8     9\n",
       "9    10\n",
       "dtype: int64"
      ]
     },
     "execution_count": 10,
     "metadata": {},
     "output_type": "execute_result"
    }
   ],
   "source": [
    "my_list = list(range(1, 11))\n",
    "\n",
    "list_as_series = pd.Series(my_list)\n",
    "\n",
    "list_as_series"
   ]
  },
  {
   "cell_type": "code",
   "execution_count": 12,
   "metadata": {},
   "outputs": [
    {
     "data": {
      "text/plain": [
       "a    1\n",
       "b    2\n",
       "c    3\n",
       "dtype: int64"
      ]
     },
     "execution_count": 12,
     "metadata": {},
     "output_type": "execute_result"
    }
   ],
   "source": [
    "# Creating a pandas series from a dictionary\n",
    "\n",
    "my_dict = {'a': 1, 'b': 2, 'c': 3}\n",
    "\n",
    "my_dict_series = pd.Series(my_dict)\n",
    "\n",
    "my_dict_series"
   ]
  },
  {
   "cell_type": "code",
   "execution_count": 14,
   "metadata": {},
   "outputs": [
    {
     "data": {
      "text/plain": [
       "a    1\n",
       "b    2\n",
       "dtype: int64"
      ]
     },
     "execution_count": 14,
     "metadata": {},
     "output_type": "execute_result"
    }
   ],
   "source": [
    "# Drop the c or 3 from my_dict_series\n",
    "\n",
    "my_dict_series.drop('c')"
   ]
  },
  {
   "cell_type": "code",
   "execution_count": 15,
   "metadata": {},
   "outputs": [
    {
     "data": {
      "text/plain": [
       "a    1.0\n",
       "b    2.0\n",
       "c    3.0\n",
       "dtype: float64"
      ]
     },
     "execution_count": 15,
     "metadata": {},
     "output_type": "execute_result"
    }
   ],
   "source": [
    "# Change the data type from int64 to float64\n",
    "\n",
    "my_dict_series.astype('float64')"
   ]
  },
  {
   "cell_type": "code",
   "execution_count": 17,
   "metadata": {},
   "outputs": [
    {
     "data": {
      "text/plain": [
       "dtype('int64')"
      ]
     },
     "execution_count": 17,
     "metadata": {},
     "output_type": "execute_result"
    }
   ],
   "source": [
    "# Check the pandas data type\n",
    "\n",
    "pd.Series(my_dict_series).dtypes"
   ]
  },
  {
   "cell_type": "markdown",
   "metadata": {},
   "source": [
    "# Pandas Notes (Series)\n",
    "\n"
   ]
  },
  {
   "cell_type": "markdown",
   "metadata": {},
   "source": [
    "### Pandas Series:\n",
    "*Convert to a panda series*\n",
    "\n",
    "```pd.series()```\n",
    "\n",
    "Pandas series are 1 dimensional (plus a labeled row)\n",
    "\n",
    "1 dimensional\n",
    "\n",
    "        \n",
    "        [a][b][c][d]\n",
    "\n",
    "2 dimensional\n",
    "\n",
    "        [a][b][c][d]\n",
    "        [a][b][c][d]\n",
    "        [a][b][c][d]\n",
    "        [a][b][c][d]\n",
    "        \n",
    "In the Pandas library, a Series is a one-dimensional labeled array capable of holding data of various types (e.g., integers, floats, strings, etc.). It is similar to a NumPy array but provides additional functionalities like labeled indexing. Each element in a Series has an associated index, which allows for easy data manipulation and analysis. Series are commonly used to represent a single column of data within a DataFrame, which is a two-dimensional data structure in Pandas.\n",
    "\n",
    "### Attributes:\n",
    "Pandas Series come with various attributes that provide useful information about the data. Some common attributes include index, which returns the index labels of the Series, values, which returns the underlying data as a NumPy array, and dtype, which returns the data type of the elements in the Series.\n",
    "\n",
    "                .method() has ()\n",
    "                .attribute does not\n",
    "                \n",
    "- attributes tell you the characteristics (aka attributes) of a structure\n",
    "\n",
    "### Binning values:\n",
    "Binning is a data preprocessing technique used to categorize continuous numerical data into discrete intervals or bins. It is useful when dealing with large datasets and trying to summarize or analyze the data more effectively. Pandas provides a function called cut() that allows you to perform binning on a Series. By specifying the bin edges or the number of bins, you can convert continuous data into categorical data, which can then be analyzed using various aggregation functions.\n",
    "\n",
    "### Summarizing a Series:\n",
    "Pandas offers several built-in functions to summarize the data in a Series. Some common summarization functions include mean(), sum(), min(), max(), count(), describe(), etc. These functions allow you to calculate statistical measures such as the mean, sum, minimum, maximum, and count of the data in the Series. The describe() function provides a comprehensive summary of the data, including count, mean, standard deviation, quartiles, and more.\n",
    "\n",
    "### Vectorized operation using a user-defined function:\n",
    "Pandas supports vectorized operations, which allow you to apply functions to an entire Series without using explicit loops. This significantly improves performance and simplifies code. You can create a user-defined function and then apply it to a Series using methods like apply(), map(), or even through arithmetic operations. When a function is applied to a Series, it is automatically broadcasted element-wise, and the result is a new Series with the transformed values.\n",
    "\n",
    "*Different ways to call a column*\n",
    "\n",
    "        sleep_df['column_name']\n",
    "        sleed_df.column_name\n",
    "\n",
    "*Change data type in pandas series*\n",
    "\n",
    "        .astype(int, floatm bool, object)\n",
    "\n",
    "*Comparison operations (& = and) (| = or) (| is referred to as pipe symbol)\n",
    "\n",
    "        (x > 1) & (x < 35)\n",
    "\n",
    "        (X > 1) | (x < 35)\n",
    "\n",
    "*Series methods examples and how to \n",
    "```\n",
    "        .head()         - default first 5\n",
    "        .tail()         - default last 5\n",
    "        .sample()       - default 1 sample\n",
    "        .value_counts() - count of every item in a structure\n",
    "        .sort_values()  - \n",
    "        .describe       - gives count, mean, std, min, 25%, 50%, 75%, max\n",
    "```\n",
    "\n",
    "\n"
   ]
  },
  {
   "cell_type": "markdown",
   "metadata": {},
   "source": []
  }
 ],
 "metadata": {
  "kernelspec": {
   "display_name": "base",
   "language": "python",
   "name": "python3"
  },
  "language_info": {
   "codemirror_mode": {
    "name": "ipython",
    "version": 3
   },
   "file_extension": ".py",
   "mimetype": "text/x-python",
   "name": "python",
   "nbconvert_exporter": "python",
   "pygments_lexer": "ipython3",
   "version": "3.11.3"
  },
  "orig_nbformat": 4
 },
 "nbformat": 4,
 "nbformat_minor": 2
}
